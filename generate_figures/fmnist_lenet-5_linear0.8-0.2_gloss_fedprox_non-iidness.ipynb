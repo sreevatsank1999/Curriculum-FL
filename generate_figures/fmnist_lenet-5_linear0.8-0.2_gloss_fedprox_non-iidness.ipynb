{
 "cells": [
  {
   "cell_type": "code",
   "execution_count": 1,
   "id": "d9639946",
   "metadata": {},
   "outputs": [],
   "source": [
    "import numpy as np\n",
    "import matplotlib.pyplot as plt"
   ]
  },
  {
   "cell_type": "markdown",
   "id": "b3053e73",
   "metadata": {},
   "source": [
    "### overleaf"
   ]
  },
  {
   "cell_type": "code",
   "execution_count": 2,
   "id": "5886a329",
   "metadata": {},
   "outputs": [
    {
     "name": "stdout",
     "output_type": "stream",
     "text": [
      "[87.26, 87.1, 88.01, 87.95]\n",
      "[0.16, 0.15, 0.08, 0.21]\n"
     ]
    }
   ],
   "source": [
    "txt = \"87.26 ± 0.16 87.10 ± 0.15 88.01 ± 0.08 87.95 ± 0.21\"\n",
    "\n",
    "x = txt.split(\" \")\n",
    "\n",
    "mean = [x[0], x[3], x[6], x[9]]\n",
    "sd   = [x[2], x[5], x[8], x[11]]\n",
    "\n",
    "mean = [float(x) for x in mean] \n",
    "sd   = [float(x) for x in sd] \n",
    "\n",
    "print(mean)\n",
    "print(sd)"
   ]
  },
  {
   "cell_type": "markdown",
   "id": "4f2edc18",
   "metadata": {},
   "source": [
    "## Table - fmnist_lenet-5_linear0.8-0.2_gloss_fedprox_non-iidness"
   ]
  },
  {
   "cell_type": "code",
   "execution_count": 3,
   "id": "6b51748b",
   "metadata": {},
   "outputs": [],
   "source": [
    "r1_av = [79.48, 74.29, 78.76, 80.97]\n",
    "r1_sd = [1.35, 2.39, 2.09, 1.56]\n",
    "\n",
    "r2_av = [84.99, 83.64, 86.01, 85.65]\n",
    "r2_sd = [0.06, 1.04, 0.21, 0.5]\n",
    "\n",
    "r3_av = [87.26, 87.1, 88.01, 87.95]\n",
    "r3_sd = [0.16, 0.15, 0.08, 0.21]"
   ]
  },
  {
   "cell_type": "code",
   "execution_count": 4,
   "id": "b8fd723f",
   "metadata": {},
   "outputs": [],
   "source": [
    "table_av = [r1_av, r2_av, r3_av]\n",
    "table_sd = [r1_sd, r2_sd, r3_sd]\n",
    "\n",
    "table_av = np.array(table_av)\n",
    "table_sd = np.array(table_sd)"
   ]
  },
  {
   "cell_type": "markdown",
   "id": "3d44d2a7",
   "metadata": {},
   "source": [
    "## Plots"
   ]
  },
  {
   "cell_type": "raw",
   "id": "3a1a346a",
   "metadata": {},
   "source": [
    "# get color\n",
    "https://matplotlib.org/stable/gallery/color/named_colors.html\n",
    "\n",
    "# place legend\n",
    "https://stackoverflow.com/questions/4700614/how-to-put-the-legend-outside-the-plot"
   ]
  },
  {
   "cell_type": "code",
   "execution_count": 5,
   "id": "0bdee1b9",
   "metadata": {},
   "outputs": [],
   "source": [
    "font = {'family': 'serif',\n",
    "        'weight': 'normal',\n",
    "        }\n",
    "fontsize_axes   = 12 # axes fontsize\n",
    "fontsize_legend = 11 # legend fontsize\n",
    "legend_properties = {}\n",
    "\n",
    "x_label = [\"Dir(0.05)\", \"Dir(0.2)\", \"Dir(0.9)\"]\n",
    "y_min   = 70\n",
    "y_max   = 90\n",
    "y_step  = 5\n",
    "\n",
    "linewidth = 2\n",
    "\n",
    "color_line1_mean = 'green'\n",
    "color_line1_sd   = 'palegreen'\n",
    "\n",
    "color_line2_mean = 'darkviolet'\n",
    "color_line2_sd   = 'plum'\n",
    "\n",
    "color_line3_mean = 'darkblue'\n",
    "color_line3_sd   = 'paleturquoise'\n",
    "\n",
    "color_line4_mean = 'red'\n",
    "color_line4_sd   = 'pink'"
   ]
  },
  {
   "cell_type": "code",
   "execution_count": 6,
   "id": "160daf94",
   "metadata": {},
   "outputs": [],
   "source": [
    "def make_fig_line(mean, sd, name):\n",
    "    \n",
    "    fig, ax = plt.subplots(figsize =(9.5, 7.5), nrows=1, sharex=True)\n",
    "    \n",
    "    x = np.array(x_label)\n",
    "\n",
    "    order_idx = 0 # curr\n",
    "    y = np.array(mean[:, order_idx])\n",
    "    error = np.array(sd[:, order_idx])\n",
    "    ax.plot(x, y, color=color_line1_mean, label=\"curr\", linewidth=linewidth)\n",
    "    ax.fill_between(x, y-error, y+error,\n",
    "        alpha=0.5, edgecolor=color_line1_sd, facecolor=color_line1_sd)\n",
    "\n",
    "\n",
    "    order_idx = 1 # anti\n",
    "    y = np.array(mean[:, order_idx])\n",
    "    error = np.array(sd[:, order_idx])\n",
    "    ax.plot(x, y, color=color_line2_mean, label=\"anti\", linewidth=linewidth)\n",
    "    ax.fill_between(x, y-error, y+error,\n",
    "        alpha=0.5, edgecolor=color_line2_sd, facecolor=color_line2_sd)\n",
    "\n",
    "\n",
    "    order_idx = 2 # rand\n",
    "    y = np.array(mean[:, order_idx])\n",
    "    error = np.array(sd[:, order_idx])\n",
    "    ax.plot(x, y, color=color_line3_mean, label=\"rand\", linewidth=linewidth)\n",
    "    ax.fill_between(x, y-error, y+error,\n",
    "        alpha=0.5, edgecolor=color_line3_sd, facecolor=color_line3_sd)\n",
    "\n",
    "\n",
    "    order_idx = 3 # vanilla\n",
    "    y = np.array(mean[:, order_idx])\n",
    "    error = np.array(sd[:, order_idx])\n",
    "    ax.plot(x, y, color=color_line4_mean, label=\"vanilla\", linewidth=linewidth)\n",
    "    ax.fill_between(x, y-error, y+error,\n",
    "        alpha=0.5, edgecolor=color_line4_sd, facecolor=color_line4_sd)\n",
    "\n",
    "\n",
    "    ax.set_xticklabels(x_label, fontdict=font, fontsize=fontsize_axes, rotation=0)\n",
    "    ax.set_yticks(np.arange(y_min, y_max, y_step))\n",
    "    yticks = [str(el) for el in np.arange(y_min, y_max, y_step)]\n",
    "    ax.set_yticklabels(yticks, fontsize=fontsize_axes, fontdict=font, color='black')\n",
    "    \n",
    "    ax.set_xlabel('Non-IIDness', fontsize=15, labelpad=2, fontdict=font)\n",
    "    ax.set_ylabel('Accuracy', fontsize=15, labelpad=4, fontdict=font)\n",
    "    \n",
    "    ax.grid(b=True, which='major', axis='both')\n",
    "    ax.legend(loc=\"lower right\", fontsize=fontsize_legend)\n",
    "    ax.margins(x=0)\n",
    "    figure = plt.gcf()\n",
    "    figure.set_size_inches(3.5, 2.5)\n",
    "    plt.subplots_adjust(hspace = 0.01)\n",
    "    fig.savefig('../figures/' + name + '_line.eps', format='eps', dpi=1000, bbox_inches='tight')\n",
    "    plt.show()"
   ]
  },
  {
   "cell_type": "code",
   "execution_count": 7,
   "id": "cea88dd3",
   "metadata": {},
   "outputs": [
    {
     "name": "stderr",
     "output_type": "stream",
     "text": [
      "/var/folders/2j/py3ncp8x7gz_g6gdc_zc2npm0000gn/T/ipykernel_1975/1266245099.py:39: UserWarning: FixedFormatter should only be used together with FixedLocator\n",
      "  ax.set_xticklabels(x_label, fontdict=font, fontsize=fontsize_axes, rotation=0)\n",
      "/var/folders/2j/py3ncp8x7gz_g6gdc_zc2npm0000gn/T/ipykernel_1975/1266245099.py:47: MatplotlibDeprecationWarning: The 'b' parameter of grid() has been renamed 'visible' since Matplotlib 3.5; support for the old name will be dropped two minor releases later.\n",
      "  ax.grid(b=True, which='major', axis='both')\n",
      "The PostScript backend does not support transparency; partially transparent artists will be rendered opaque.\n"
     ]
    },
    {
     "data": {
      "image/png": "[encoded data removed]",
      "text/plain": [
       "<Figure size 350x250 with 1 Axes>"
      ]
     },
     "metadata": {},
     "output_type": "display_data"
    }
   ],
   "source": [
    "make_fig_line(table_av, table_sd, \n",
    "              'fmnist_lenet-5_linear0.8-0.2_gloss_fedprox_non-iidness')"
   ]
  },
  {
   "cell_type": "code",
   "execution_count": null,
   "id": "97e4c43c",
   "metadata": {},
   "outputs": [],
   "source": []
  }
 ],
 "metadata": {
  "kernelspec": {
   "display_name": "Python 3 (ipykernel)",
   "language": "python",
   "name": "python3"
  },
  "language_info": {
   "codemirror_mode": {
    "name": "ipython",
    "version": 3
   },
   "file_extension": ".py",
   "mimetype": "text/x-python",
   "name": "python",
   "nbconvert_exporter": "python",
   "pygments_lexer": "ipython3",
   "version": "3.9.13"
  }
 },
 "nbformat": 4,
 "nbformat_minor": 5
}

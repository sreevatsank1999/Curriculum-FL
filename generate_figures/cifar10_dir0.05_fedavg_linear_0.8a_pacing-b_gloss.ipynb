{
 "cells": [
  {
   "cell_type": "code",
   "execution_count": 1,
   "id": "d9639946",
   "metadata": {},
   "outputs": [],
   "source": [
    "import numpy as np\n",
    "import matplotlib.pyplot as plt"
   ]
  },
  {
   "cell_type": "markdown",
   "id": "583650a8",
   "metadata": {},
   "source": [
    "### overleaf"
   ]
  },
  {
   "cell_type": "code",
   "execution_count": 2,
   "id": "71fe89f8",
   "metadata": {},
   "outputs": [
    {
     "name": "stdout",
     "output_type": "stream",
     "text": [
      "[44.21, 40.78, 43.08]\n",
      "[0.28, 1.6, 0.75]\n"
     ]
    }
   ],
   "source": [
    "txt = \"44.21 ± 0.28 40.78 ± 1.60 43.08 ± 0.75\"\n",
    "\n",
    "x = txt.split(\" \")\n",
    "\n",
    "mean = [x[0], x[3], x[6]]\n",
    "sd   = [x[2], x[5], x[8]]\n",
    "\n",
    "mean = [float(x) for x in mean]\n",
    "sd   = [float(x) for x in sd]\n",
    "\n",
    "print(mean)\n",
    "print(sd)"
   ]
  },
  {
   "cell_type": "markdown",
   "id": "4f2edc18",
   "metadata": {},
   "source": [
    "## Table - cifar10_dir0.05_fedavg_linear_0.8a_pacing-b_gloss\n",
    "pacing-b: (0.0025, 0.1, 0.2, 0.5, 0.8)"
   ]
  },
  {
   "cell_type": "code",
   "execution_count": 3,
   "id": "6b51748b",
   "metadata": {},
   "outputs": [],
   "source": [
    "r1_av = [45.95, 33.08, 42.72]\n",
    "r1_sd = [0.15, 1.03, 1.12]\n",
    "\n",
    "r2_av = [46.84, 30.47, 41.34]\n",
    "r2_sd = [0.39, 2.11, 0.73]\n",
    "\n",
    "r3_av = [47.07, 34.11, 41.07]\n",
    "r3_sd = [0.86, 0.35, 0.7]\n",
    "\n",
    "r4_av = [46.82, 37.64, 42.7]\n",
    "r4_sd = [0.66, 1.07, 1.07]\n",
    "\n",
    "r5_av = [44.21, 40.78, 43.08]\n",
    "r5_sd = [0.28, 1.6, 0.75]"
   ]
  },
  {
   "cell_type": "code",
   "execution_count": 4,
   "id": "b8fd723f",
   "metadata": {},
   "outputs": [],
   "source": [
    "table_av = [r1_av, r2_av, r3_av, r4_av, r5_av]\n",
    "table_sd = [r1_sd, r2_sd, r3_sd, r4_sd, r5_sd]\n",
    "\n",
    "table_av = np.array(table_av)\n",
    "table_sd = np.array(table_sd)"
   ]
  },
  {
   "cell_type": "markdown",
   "id": "3d44d2a7",
   "metadata": {},
   "source": [
    "## Plots"
   ]
  },
  {
   "cell_type": "raw",
   "id": "3a1a346a",
   "metadata": {},
   "source": [
    "# get color\n",
    "https://matplotlib.org/stable/gallery/color/named_colors.html\n",
    "\n",
    "# place legend\n",
    "https://stackoverflow.com/questions/4700614/how-to-put-the-legend-outside-the-plot"
   ]
  },
  {
   "cell_type": "code",
   "execution_count": 5,
   "id": "0bdee1b9",
   "metadata": {},
   "outputs": [],
   "source": [
    "font = {'family': 'serif',\n",
    "        'weight': 'normal',\n",
    "        }\n",
    "fontsize_axes   = 12 # axes fontsize\n",
    "fontsize_legend = 11 # legend fontsize\n",
    "# legend_properties = {'weight':'bold'}\n",
    "\n",
    "x_label = [\"curr\", \"anti\", \"rand\"]\n",
    "y_min   = 25\n",
    "y_max   = 50\n",
    "y_step  = 5\n",
    "\n",
    "color_bar1 = 'darkturquoise'\n",
    "color_bar2 = 'slateblue'\n",
    "color_bar3 = 'palegreen'\n",
    "color_bar4 = 'darkgrey'\n",
    "color_bar5 = 'mediumorchid'"
   ]
  },
  {
   "cell_type": "code",
   "execution_count": 8,
   "id": "160daf94",
   "metadata": {},
   "outputs": [],
   "source": [
    "def make_fig_bar(mean, sd, name):\n",
    "    \n",
    "    fig, ax = plt.subplots(figsize =(9.5, 7.5), nrows=1, sharex=True)\n",
    "    \n",
    "    N = 3\n",
    "    ind = np.arange(N) \n",
    "    width = 0.15\n",
    "\n",
    "    bar1 = ax.bar(ind, mean[0], yerr=sd[0], width=width, \n",
    "                  label=\"0.0025\", color=color_bar1, capsize=3)\n",
    "    \n",
    "    bar2 = ax.bar(ind+width, mean[1], yerr=sd[1], width=width, \n",
    "                  label=\"0.1\", color=color_bar2, capsize=3)\n",
    "    \n",
    "    bar3 = ax.bar(ind+width*2, mean[2], yerr=sd[2], width=width, \n",
    "                   label=\"0.2\", color=color_bar3, capsize=3)\n",
    "    \n",
    "    bar4 = ax.bar(ind+width*3, mean[3], yerr=sd[3], width=width, \n",
    "                   label=\"0.5\", color=color_bar4, capsize=3)\n",
    "    \n",
    "    bar5 = ax.bar(ind+width*4, mean[4], yerr=sd[4], width=width, \n",
    "                   label=\"0.8\", color=color_bar5, capsize=3)\n",
    "    \n",
    "\n",
    "    plt.xticks(ind+width*2, x_label)\n",
    "    ax.set_xticklabels(x_label, fontdict=font, fontsize=fontsize_axes, rotation=0)\n",
    "    plt.ylim(y_min, y_max)\n",
    "    ax.set_yticks(np.arange(y_min, y_max, y_step))\n",
    "    yticks = [str(el) for el in np.arange(y_min, y_max, y_step)]\n",
    "    ax.set_yticklabels(yticks, fontsize=fontsize_axes, fontdict=font, color='black')\n",
    "    \n",
    "    ax.set_xlabel('Ordering', fontsize=15, labelpad=2, fontdict=font)\n",
    "    ax.set_ylabel('Accuracy', fontsize=15, labelpad=4, fontdict=font)\n",
    "    \n",
    "    ax.grid(visible=True, which='major', axis='y')\n",
    "    plt.legend(bbox_to_anchor=(0, 1.02, 1, 0.2), loc=\"lower left\", \n",
    "               mode=\"expand\", borderaxespad=0, ncol=3, \n",
    "               fontsize=fontsize_legend)\n",
    "    ax.margins(x=0.1)\n",
    "    figure = plt.gcf()\n",
    "    figure.set_size_inches(3.5, 2.5)\n",
    "    plt.subplots_adjust(hspace = 0.01)\n",
    "    fig.savefig('figures/' + name + '_bar.eps', format='eps', dpi=1000, bbox_inches='tight')\n",
    "    plt.show()"
   ]
  },
  {
   "cell_type": "code",
   "execution_count": 9,
   "id": "cea88dd3",
   "metadata": {},
   "outputs": [
    {
     "name": "stderr",
     "output_type": "stream",
     "text": [
      "The PostScript backend does not support transparency; partially transparent artists will be rendered opaque.\n"
     ]
    },
    {
     "data": {
      "image/png": "[encoded data removed]",
      "text/plain": [
       "<Figure size 252x180 with 1 Axes>"
      ]
     },
     "metadata": {
      "needs_background": "light"
     },
     "output_type": "display_data"
    }
   ],
   "source": [
    "make_fig_bar(table_av, table_sd, \n",
    "             'cifar10_dir0.05_fedavg_linear_0.8a_pacing-b_gloss')"
   ]
  },
  {
   "cell_type": "code",
   "execution_count": null,
   "id": "97e4c43c",
   "metadata": {},
   "outputs": [],
   "source": []
  }
 ],
 "metadata": {
  "kernelspec": {
   "display_name": "Python 3.8.13 ('base')",
   "language": "python",
   "name": "python3"
  },
  "language_info": {
   "codemirror_mode": {
    "name": "ipython",
    "version": 3
   },
   "file_extension": ".py",
   "mimetype": "text/x-python",
   "name": "python",
   "nbconvert_exporter": "python",
   "pygments_lexer": "ipython3",
   "version": "3.8.13"
  },
  "vscode": {
   "interpreter": {
    "hash": "d4d1e4263499bec80672ea0156c357c1ee493ec2b1c70f0acce89fc37c4a6abe"
   }
  }
 },
 "nbformat": 4,
 "nbformat_minor": 5
}

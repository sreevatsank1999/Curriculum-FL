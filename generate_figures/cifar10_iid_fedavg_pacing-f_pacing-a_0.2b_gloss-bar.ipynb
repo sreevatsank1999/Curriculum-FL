{
 "cells": [
  {
   "cell_type": "code",
   "execution_count": 1,
   "id": "d9639946",
   "metadata": {},
   "outputs": [],
   "source": [
    "import numpy as np\n",
    "import matplotlib.pyplot as plt"
   ]
  },
  {
   "cell_type": "markdown",
   "id": "583650a8",
   "metadata": {},
   "source": [
    "### overleaf"
   ]
  },
  {
   "cell_type": "code",
   "execution_count": 2,
   "id": "71fe89f8",
   "metadata": {},
   "outputs": [
    {
     "name": "stdout",
     "output_type": "stream",
     "text": [
      "[54.84, 44.72, 50.37]\n",
      "[0.75, 0.5, 1.17]\n"
     ]
    }
   ],
   "source": [
    "txt = \"54.84 ± 0.75 44.72 ± 0.50 50.37 ± 1.17\"\n",
    "\n",
    "x = txt.split(\" \")\n",
    "\n",
    "mean = [x[0], x[3], x[6]]\n",
    "sd   = [x[2], x[5], x[8]]\n",
    "\n",
    "mean = [float(x) for x in mean] \n",
    "sd   = [float(x) for x in sd] \n",
    "\n",
    "print(mean)\n",
    "print(sd)"
   ]
  },
  {
   "cell_type": "markdown",
   "id": "4f2edc18",
   "metadata": {},
   "source": [
    "## Table - cifar10_iid_fedavg_pacing-f_pacing-a_0.2b_gloss"
   ]
  },
  {
   "cell_type": "markdown",
   "id": "e5cfe31e",
   "metadata": {},
   "source": [
    "### pacing-f: linear, pacing-a: (0.1, 0.5, 0.8)"
   ]
  },
  {
   "cell_type": "code",
   "execution_count": 3,
   "id": "6b51748b",
   "metadata": {},
   "outputs": [],
   "source": [
    "r01_av = [54.05, 50.21, 54.04]\n",
    "r01_sd = [0.8, 1.02, 0.96]\n",
    "\n",
    "r02_av = [54.92, 46.22, 52.38]\n",
    "r02_sd = [1.01, 0.11, 1.12]\n",
    "\n",
    "r03_av = [56.1, 44.44, 50.5]\n",
    "r03_sd = [0.91, 0.75, 0.29]"
   ]
  },
  {
   "cell_type": "markdown",
   "id": "12ca8f5f",
   "metadata": {},
   "source": [
    "### pacing-f: step, pacing-a: (0.1, 0.5, 0.8)"
   ]
  },
  {
   "cell_type": "code",
   "execution_count": 4,
   "id": "546f5323",
   "metadata": {},
   "outputs": [],
   "source": [
    "r04_av = [53.31, 50.64, 53.03]\n",
    "r04_sd = [1.0, 0.45, 0.39]\n",
    "\n",
    "r05_av = [54.4, 46.38, 50.06]\n",
    "r05_sd = [1.26, 1.32, 0.84]\n",
    "\n",
    "r06_av = [55.54, 41.51, 46.54]\n",
    "r06_sd = [1.87, 0.78, 0.87]"
   ]
  },
  {
   "cell_type": "markdown",
   "id": "77485689",
   "metadata": {},
   "source": [
    "### pacing-f: log, pacing-a: (0.1, 0.5, 0.8)"
   ]
  },
  {
   "cell_type": "code",
   "execution_count": 5,
   "id": "b840093a",
   "metadata": {},
   "outputs": [],
   "source": [
    "# r07_av = [52.69, 49.17, 51.85]\n",
    "# r07_sd = [1.1, 0.65, 0.36]\n",
    "\n",
    "# r08_av = [53.71, 48.81, 51.64]\n",
    "# r08_sd = [0.7, 0.96, 1.15]\n",
    "\n",
    "# r09_av = [54.21, 48.3, 51.61]\n",
    "# r09_sd = [0.3, 0.5, 0.39]"
   ]
  },
  {
   "cell_type": "markdown",
   "id": "88d4d988",
   "metadata": {},
   "source": [
    "### pacing-f: quad, pacing-a: (0.1, 0.5, 0.8)"
   ]
  },
  {
   "cell_type": "code",
   "execution_count": 6,
   "id": "9108318f",
   "metadata": {},
   "outputs": [],
   "source": [
    "r10_av = [53.58, 48.75, 52.71]\n",
    "r10_sd = [0.76, 0.88, 1.52]\n",
    "\n",
    "r11_av = [55.31, 47.11, 52.47]\n",
    "r11_sd = [0.45, 1.65, 1.59]\n",
    "\n",
    "r12_av = [56.36, 44.27, 51.05]\n",
    "r12_sd = [0.41, 1.27, 0.14]"
   ]
  },
  {
   "cell_type": "markdown",
   "id": "e7ba2fe0",
   "metadata": {},
   "source": [
    "### pacing-f: exp, pacing-a: (0.1, 0.5, 0.8)"
   ]
  },
  {
   "cell_type": "code",
   "execution_count": 7,
   "id": "58be53b6",
   "metadata": {},
   "outputs": [],
   "source": [
    "r13_av = [51.84, 48.89, 51.73]\n",
    "r13_sd = [0.96, 1.07, 0.81]\n",
    "\n",
    "r14_av = [55.28, 45.82, 50.49]\n",
    "r14_sd = [2.58, 1.31, 1.39]\n",
    "\n",
    "r15_av = [57.45, 43.48, 49.9]\n",
    "r15_sd = [1.48, 1.2, 1.1]"
   ]
  },
  {
   "cell_type": "markdown",
   "id": "071a2b7e",
   "metadata": {},
   "source": [
    "### pacing-f: sqrt, pacing-a: (0.1, 0.5, 0.8)"
   ]
  },
  {
   "cell_type": "code",
   "execution_count": 8,
   "id": "6e45a0ee",
   "metadata": {},
   "outputs": [],
   "source": [
    "r16_av = [53.76, 50.38, 52.98]\n",
    "r16_sd = [1.64, 1.19, 0.99]\n",
    "\n",
    "r17_av = [55.15, 47.92, 53.39]\n",
    "r17_sd = [0.6, 1.38, 1.38]\n",
    "\n",
    "r18_av = [54.84, 44.72, 50.37]\n",
    "r18_sd = [0.75, 0.5, 1.17]"
   ]
  },
  {
   "cell_type": "markdown",
   "id": "aa69937f",
   "metadata": {},
   "source": [
    "### combine table"
   ]
  },
  {
   "cell_type": "code",
   "execution_count": 9,
   "id": "b8fd723f",
   "metadata": {},
   "outputs": [],
   "source": [
    "# table_av = [r01_av, r02_av, r03_av, r04_av, r05_av, r06_av, r07_av, r08_av, r09_av, \\\n",
    "#             r10_av, r11_av, r12_av, r13_av, r14_av, r15_av, r16_av, r17_av, r18_av]\n",
    "# table_sd = [r01_sd, r02_sd, r03_sd, r04_sd, r05_sd, r06_sd, r07_sd, r08_sd, r09_sd, \\\n",
    "#             r10_sd, r11_sd, r12_sd, r13_sd, r14_sd, r15_sd, r16_sd, r17_sd, r18_sd]\n",
    "table_av = [r01_av, r02_av, r03_av, r04_av, r05_av, r06_av, \\\n",
    "            r10_av, r11_av, r12_av, r13_av, r14_av, r15_av, r16_av, r17_av, r18_av]\n",
    "table_sd = [r01_sd, r02_sd, r03_sd, r04_sd, r05_sd, r06_sd, \\\n",
    "            r10_sd, r11_sd, r12_sd, r13_sd, r14_sd, r15_sd, r16_sd, r17_sd, r18_sd]\n",
    "\n",
    "table_av = np.array(table_av)\n",
    "table_sd = np.array(table_sd)"
   ]
  },
  {
   "cell_type": "markdown",
   "id": "f7471368",
   "metadata": {},
   "source": [
    "### table by ordering"
   ]
  },
  {
   "cell_type": "code",
   "execution_count": 10,
   "id": "4f7b3b84",
   "metadata": {},
   "outputs": [],
   "source": [
    "table_curr_av = table_av[:, 0].reshape(5, 3)\n",
    "table_curr_sd = table_sd[:, 0].reshape(5, 3)\n",
    "\n",
    "table_anti_av = table_av[:, 1].reshape(5, 3)\n",
    "table_anti_sd = table_sd[:, 1].reshape(5, 3)\n",
    "\n",
    "table_rand_av = table_av[:, 2].reshape(5, 3)\n",
    "table_rand_sd = table_sd[:, 2].reshape(5, 3)"
   ]
  },
  {
   "cell_type": "markdown",
   "id": "3d44d2a7",
   "metadata": {},
   "source": [
    "## Plots"
   ]
  },
  {
   "cell_type": "raw",
   "id": "3a1a346a",
   "metadata": {},
   "source": [
    "# get color\n",
    "https://matplotlib.org/stable/gallery/color/named_colors.html\n",
    "\n",
    "# place legend\n",
    "https://stackoverflow.com/questions/4700614/how-to-put-the-legend-outside-the-plot"
   ]
  },
  {
   "cell_type": "code",
   "execution_count": 11,
   "id": "0bdee1b9",
   "metadata": {},
   "outputs": [],
   "source": [
    "font = {'family': 'serif',\n",
    "        'weight': 'normal',\n",
    "        }\n",
    "fontsize_axes   = 12 # axes fontsize\n",
    "fontsize_legend = 11 # legend fontsize\n",
    "\n",
    "x_label = [\"0.1\", \"0.5\", \"0.8\"]\n",
    "# y_min   = 40\n",
    "# y_max   = 60\n",
    "# y_step  = 5\n",
    "\n",
    "color_bar1 = 'darkturquoise'\n",
    "color_bar2 = 'slateblue'\n",
    "color_bar3 = 'palegreen'\n",
    "color_bar4 = 'darkgrey'\n",
    "color_bar5 = 'lightsalmon'"
   ]
  },
  {
   "cell_type": "code",
   "execution_count": 12,
   "id": "160daf94",
   "metadata": {},
   "outputs": [],
   "source": [
    "def make_fig_bar(mean, sd, y_min, y_max, y_step, name):\n",
    "    \n",
    "    fig, ax = plt.subplots(figsize =(9.5, 7.5), nrows=1, sharex=True)\n",
    "    \n",
    "    N = 3\n",
    "    ind = np.arange(N) \n",
    "    width = 0.15\n",
    "\n",
    "    bar1 = ax.bar(ind, mean[0], yerr=sd[0], width=width, \n",
    "                  label=\"linear\", color=color_bar1, capsize=3)\n",
    "    \n",
    "    bar2 = ax.bar(ind+width, mean[1], yerr=sd[1], width=width, \n",
    "                  label=\"step\", color=color_bar2, capsize=3)\n",
    "    \n",
    "    bar3 = ax.bar(ind+width*2, mean[2], yerr=sd[2], width=width, \n",
    "                   label=\"quad\", color=color_bar3, capsize=3)\n",
    "    \n",
    "    bar4 = ax.bar(ind+width*3, mean[3], yerr=sd[3], width=width, \n",
    "                   label=\"exp\", color=color_bar4, capsize=3)\n",
    "    \n",
    "    bar5 = ax.bar(ind+width*4, mean[4], yerr=sd[4], width=width, \n",
    "                   label=\"sqrt\", color=color_bar5, capsize=3)\n",
    "    \n",
    "\n",
    "    plt.xticks(ind+width*2, x_label)\n",
    "    ax.set_xticklabels(x_label, fontdict=font, fontsize=fontsize_axes, rotation=0)\n",
    "    plt.ylim(y_min, y_max)\n",
    "    ax.set_yticks(np.arange(y_min, y_max, y_step))\n",
    "    yticks = [str(el) for el in np.arange(y_min, y_max, y_step)]\n",
    "    ax.set_yticklabels(yticks, fontsize=fontsize_axes, fontdict=font, color='black')\n",
    "    \n",
    "    ax.set_xlabel(r'$\\alpha$', fontsize=15, labelpad=2, fontdict=font)\n",
    "    ax.set_ylabel('Accuracy', fontsize=15, labelpad=4, fontdict=font)\n",
    "\n",
    "    ax.grid(visible=True, which='major', axis='y')\n",
    "    plt.legend(bbox_to_anchor=(0, 1.02, 1, 0.2), loc=\"lower left\", \n",
    "               mode=\"expand\", borderaxespad=0, ncol=3, \n",
    "               fontsize=fontsize_legend)\n",
    "    ax.margins(x=0.1)\n",
    "    figure = plt.gcf()\n",
    "    figure.set_size_inches(3.5, 2.5)\n",
    "    plt.subplots_adjust(hspace = 0.01)\n",
    "    fig.savefig('../figures/' + name + '_bar.eps', format='eps', dpi=1000, bbox_inches='tight')\n",
    "    plt.show()"
   ]
  },
  {
   "cell_type": "code",
   "execution_count": 13,
   "id": "cea88dd3",
   "metadata": {},
   "outputs": [
    {
     "name": "stderr",
     "output_type": "stream",
     "text": [
      "The PostScript backend does not support transparency; partially transparent artists will be rendered opaque.\n"
     ]
    },
    {
     "data": {
      "image/png": "[encoded data removed]",
      "text/plain": [
       "<Figure size 350x250 with 1 Axes>"
      ]
     },
     "metadata": {},
     "output_type": "display_data"
    }
   ],
   "source": [
    "y_min   = 40\n",
    "y_max   = 60\n",
    "y_step  = 5\n",
    "\n",
    "make_fig_bar(table_curr_av, table_curr_sd, y_min, y_max, y_step, \n",
    "             'cifar10_iid_fedavg_pacing-f_pacing-a_0.2b_gloss_curr')"
   ]
  },
  {
   "cell_type": "code",
   "execution_count": 14,
   "id": "97e4c43c",
   "metadata": {},
   "outputs": [
    {
     "name": "stderr",
     "output_type": "stream",
     "text": [
      "The PostScript backend does not support transparency; partially transparent artists will be rendered opaque.\n"
     ]
    },
    {
     "data": {
      "image/png": "[encoded data removed]",
      "text/plain": [
       "<Figure size 350x250 with 1 Axes>"
      ]
     },
     "metadata": {},
     "output_type": "display_data"
    }
   ],
   "source": [
    "y_min   = 40\n",
    "y_max   = 55\n",
    "y_step  = 5\n",
    "\n",
    "make_fig_bar(table_anti_av, table_anti_sd, y_min, y_max, y_step, \n",
    "             'cifar10_iid_fedavg_pacing-f_pacing-a_0.2b_gloss_anti')"
   ]
  },
  {
   "cell_type": "code",
   "execution_count": 15,
   "id": "93164ddb",
   "metadata": {},
   "outputs": [
    {
     "name": "stderr",
     "output_type": "stream",
     "text": [
      "The PostScript backend does not support transparency; partially transparent artists will be rendered opaque.\n"
     ]
    },
    {
     "data": {
      "image/png": "[encoded data removed]",
      "text/plain": [
       "<Figure size 350x250 with 1 Axes>"
      ]
     },
     "metadata": {},
     "output_type": "display_data"
    }
   ],
   "source": [
    "y_min   = 40\n",
    "y_max   = 60\n",
    "y_step  = 5\n",
    "\n",
    "make_fig_bar(table_rand_av, table_rand_sd, y_min, y_max, y_step, \n",
    "             'cifar10_iid_fedavg_pacing-f_pacing-a_0.2b_gloss_rand')"
   ]
  }
 ],
 "metadata": {
  "kernelspec": {
   "display_name": "Python 3.8.13 ('base')",
   "language": "python",
   "name": "python3"
  },
  "language_info": {
   "codemirror_mode": {
    "name": "ipython",
    "version": 3
   },
   "file_extension": ".py",
   "mimetype": "text/x-python",
   "name": "python",
   "nbconvert_exporter": "python",
   "pygments_lexer": "ipython3",
   "version": "3.8.13"
  },
  "vscode": {
   "interpreter": {
    "hash": "d4d1e4263499bec80672ea0156c357c1ee493ec2b1c70f0acce89fc37c4a6abe"
   }
  }
 },
 "nbformat": 4,
 "nbformat_minor": 5
}

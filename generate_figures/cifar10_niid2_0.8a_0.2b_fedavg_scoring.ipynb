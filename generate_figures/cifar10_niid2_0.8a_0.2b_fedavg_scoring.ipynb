{
 "cells": [
  {
   "cell_type": "code",
   "execution_count": 1,
   "id": "d9639946",
   "metadata": {},
   "outputs": [],
   "source": [
    "import numpy as np\n",
    "import matplotlib.pyplot as plt"
   ]
  },
  {
   "cell_type": "markdown",
   "id": "583650a8",
   "metadata": {},
   "source": [
    "### overleaf"
   ]
  },
  {
   "cell_type": "code",
   "execution_count": 2,
   "id": "71fe89f8",
   "metadata": {},
   "outputs": [
    {
     "name": "stdout",
     "output_type": "stream",
     "text": [
      "[46.66, 38.06, 43.34, 41.48]\n",
      "[1.12, 2.03, 0.33, 1.73]\n"
     ]
    }
   ],
   "source": [
    "txt = \"46.66 ± 1.12 38.06 ± 2.03 43.34 ± 0.33 41.48 ± 1.73\"\n",
    "\n",
    "x = txt.split(\" \")\n",
    "\n",
    "mean = [x[0], x[3], x[6], x[9]]\n",
    "sd   = [x[2], x[5], x[8], x[11]]\n",
    "\n",
    "mean = [float(x) for x in mean] \n",
    "sd   = [float(x) for x in sd] \n",
    "\n",
    "print(mean)\n",
    "print(sd)"
   ]
  },
  {
   "cell_type": "markdown",
   "id": "4f2edc18",
   "metadata": {},
   "source": [
    "## Table - cifar10_niid2_0.8a_0.2b_fedavg_scoring"
   ]
  },
  {
   "cell_type": "code",
   "execution_count": 3,
   "id": "6b51748b",
   "metadata": {},
   "outputs": [],
   "source": [
    "# S_G\n",
    "r1_av = [47.55, 34.24, 40.57]\n",
    "r1_sd = [1.19, 0.54, 1.07]\n",
    "\n",
    "# S_L\n",
    "r2_av = [43.16, 41.58, 41.9]\n",
    "r2_sd = [0.41, 1.51, 0.75]\n",
    "\n",
    "# S_LG\n",
    "r3_av = [47.67, 35.76, 42.55]\n",
    "r3_sd = [1.92, 0.37, 0.52]\n",
    "\n",
    "# S_G^Pred\n",
    "r4_av = [46.75, 40.09, 42.47]\n",
    "r4_sd = [0.23, 1.66, 1.27]\n",
    "\n",
    "# S_L^Pred\n",
    "r5_av = [41.22, 44.12, 41.35]\n",
    "r5_sd = [1.97, 0.7, 0.4]\n",
    "\n",
    "# S_LG^Pred\n",
    "r6_av = [46.66, 38.06, 43.34]\n",
    "r6_sd = [1.12, 2.03, 0.33]"
   ]
  },
  {
   "cell_type": "code",
   "execution_count": 4,
   "id": "b8fd723f",
   "metadata": {},
   "outputs": [],
   "source": [
    "table_av = [r1_av, r4_av, r6_av, r2_av, r5_av]\n",
    "table_sd = [r1_sd, r4_sd, r6_sd, r2_sd, r5_sd]\n",
    "\n",
    "table_av = np.array(table_av)\n",
    "table_sd = np.array(table_sd)"
   ]
  },
  {
   "cell_type": "markdown",
   "id": "3d44d2a7",
   "metadata": {},
   "source": [
    "## Plots"
   ]
  },
  {
   "cell_type": "raw",
   "id": "3a1a346a",
   "metadata": {},
   "source": [
    "# get color\n",
    "https://matplotlib.org/stable/gallery/color/named_colors.html\n",
    "\n",
    "# place legend\n",
    "https://stackoverflow.com/questions/4700614/how-to-put-the-legend-outside-the-plot"
   ]
  },
  {
   "cell_type": "code",
   "execution_count": 5,
   "id": "0bdee1b9",
   "metadata": {},
   "outputs": [],
   "source": [
    "font = {'family': 'serif',\n",
    "        'weight': 'normal',\n",
    "        }\n",
    "\n",
    "fontsize_x_axis = 14 # X axis fontsize\n",
    "fontsize_y_axis = 12 # Y axis fontsize\n",
    "\n",
    "fontsize_x_tag = 14 # X axis tag fontsize\n",
    "fontsize_y_tag = 14 # Y axis tag fontsize\n",
    "\n",
    "fontsize_legend = 11 # legend fontsize\n",
    "\n",
    "x_label = [\"$s_{G}$\", \"$s_{G}^{Pred}$\", \"$s_{LG}^{Pred}$\", \n",
    "           \"$s_{L}$\", \"$s_{L}^{Pred}$\"]\n",
    "\n",
    "y_min   = 30\n",
    "y_max   = 50\n",
    "y_step  = 5\n",
    "\n",
    "linewidth = 2\n",
    "\n",
    "color_line1_mean = 'green'\n",
    "color_line1_sd   = 'palegreen'\n",
    "\n",
    "color_line2_mean = 'darkviolet'\n",
    "color_line2_sd   = 'plum'\n",
    "\n",
    "color_line3_mean = 'darkblue'\n",
    "color_line3_sd   = 'paleturquoise'"
   ]
  },
  {
   "cell_type": "code",
   "execution_count": 6,
   "id": "160daf94",
   "metadata": {},
   "outputs": [],
   "source": [
    "def make_fig_line(mean, sd, name):\n",
    "    \n",
    "    fig, ax = plt.subplots(figsize =(9.5, 7.5), nrows=1, sharex=True)\n",
    "    \n",
    "    x = np.array(x_label)\n",
    "\n",
    "    order_idx = 0 # curr\n",
    "    y = np.array(mean[:, order_idx])\n",
    "    error = np.array(sd[:, order_idx])\n",
    "    ax.plot(x, y, color=color_line1_mean, label=\"curr\", linewidth=linewidth)\n",
    "    ax.fill_between(x, y-error, y+error,\n",
    "        alpha=0.5, edgecolor=color_line1_sd, facecolor=color_line1_sd)\n",
    "\n",
    "    order_idx = 1 # anti\n",
    "    y = np.array(mean[:, order_idx])\n",
    "    error = np.array(sd[:, order_idx])\n",
    "    ax.plot(x, y, color=color_line2_mean, label=\"anti\", linewidth=linewidth)\n",
    "    ax.fill_between(x, y-error, y+error,\n",
    "        alpha=0.5, edgecolor=color_line2_sd, facecolor=color_line2_sd)\n",
    "\n",
    "    order_idx = 2 # rand\n",
    "    y = np.array(mean[:, order_idx])\n",
    "    error = np.array(sd[:, order_idx])\n",
    "    ax.plot(x, y, color=color_line3_mean, label=\"rand\", linewidth=linewidth)\n",
    "    ax.fill_between(x, y-error, y+error,\n",
    "        alpha=0.5, edgecolor=color_line3_sd, facecolor=color_line3_sd)\n",
    "\n",
    "\n",
    "    ax.set_xticklabels(x_label, fontdict=font, fontsize=fontsize_x_axis, rotation=0)\n",
    "    ax.set_yticks(np.arange(y_min, y_max, y_step))\n",
    "    yticks = [str(el) for el in np.arange(y_min, y_max, y_step)]\n",
    "    ax.set_yticklabels(yticks, fontsize=fontsize_y_axis, fontdict=font, color='black')\n",
    "    \n",
    "    ax.set_xlabel('Scoring Functions', fontsize=fontsize_x_tag, labelpad=2, fontdict=font)\n",
    "    ax.set_ylabel('Accuracy', fontsize=fontsize_y_tag, labelpad=4, fontdict=font)\n",
    "    \n",
    "    ax.grid(visible=True, which='major', axis='both')\n",
    "    ax.legend(loc=\"lower right\", fontsize=fontsize_legend)\n",
    "    ax.margins(x=0)\n",
    "    figure = plt.gcf()\n",
    "    figure.set_size_inches(3.5, 2.5)\n",
    "    plt.subplots_adjust(hspace = 0.01)\n",
    "    fig.savefig('../figures/' + name + '_line.eps', format='eps', dpi=1000, bbox_inches='tight')\n",
    "    plt.show()"
   ]
  },
  {
   "cell_type": "code",
   "execution_count": 7,
   "id": "cea88dd3",
   "metadata": {},
   "outputs": [
    {
     "name": "stderr",
     "output_type": "stream",
     "text": [
      "/var/folders/2j/py3ncp8x7gz_g6gdc_zc2npm0000gn/T/ipykernel_1780/534517491.py:29: UserWarning: FixedFormatter should only be used together with FixedLocator\n",
      "  ax.set_xticklabels(x_label, fontdict=font, fontsize=fontsize_x_axis, rotation=0)\n",
      "The PostScript backend does not support transparency; partially transparent artists will be rendered opaque.\n"
     ]
    },
    {
     "data": {
      "image/png": "[encoded data removed]",
      "text/plain": [
       "<Figure size 350x250 with 1 Axes>"
      ]
     },
     "metadata": {},
     "output_type": "display_data"
    }
   ],
   "source": [
    "make_fig_line(table_av, table_sd, \n",
    "              'cifar10_niid2_0.8a_0.2b_fedavg_scoring')"
   ]
  },
  {
   "cell_type": "code",
   "execution_count": null,
   "id": "97e4c43c",
   "metadata": {},
   "outputs": [],
   "source": []
  }
 ],
 "metadata": {
  "kernelspec": {
   "display_name": "Python 3.8.13 ('base')",
   "language": "python",
   "name": "python3"
  },
  "language_info": {
   "codemirror_mode": {
    "name": "ipython",
    "version": 3
   },
   "file_extension": ".py",
   "mimetype": "text/x-python",
   "name": "python",
   "nbconvert_exporter": "python",
   "pygments_lexer": "ipython3",
   "version": "3.8.13"
  },
  "vscode": {
   "interpreter": {
    "hash": "d4d1e4263499bec80672ea0156c357c1ee493ec2b1c70f0acce89fc37c4a6abe"
   }
  }
 },
 "nbformat": 4,
 "nbformat_minor": 5
}

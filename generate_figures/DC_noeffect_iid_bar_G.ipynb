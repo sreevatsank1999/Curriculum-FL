{
 "cells": [
  {
   "cell_type": "code",
   "execution_count": 3,
   "id": "d9639946",
   "metadata": {},
   "outputs": [],
   "source": [
    "import numpy as np\n",
    "import matplotlib.pyplot as plt"
   ]
  },
  {
   "cell_type": "markdown",
   "id": "583650a8",
   "metadata": {},
   "source": [
    "### overleaf"
   ]
  },
  {
   "cell_type": "code",
   "execution_count": 4,
   "id": "71fe89f8",
   "metadata": {},
   "outputs": [
    {
     "name": "stdout",
     "output_type": "stream",
     "text": [
      "[57.41, 48.24, 55.52, 52.73]\n",
      "[0.38, 0.66, 1.32, 0.53]\n"
     ]
    }
   ],
   "source": [
    "txt = \"57.41 ± 0.38 48.24 ± 0.66 55.52 ± 1.32 52.73 ± 0.53\"\n",
    "\n",
    "x = txt.split(\" \")\n",
    "\n",
    "\n",
    "mean = [x[0], x[3], x[6], x[9]]\n",
    "sd   = [x[2], x[5], x[8], x[11]]\n",
    "\n",
    "mean = [float(x) for x in mean] \n",
    "sd   = [float(x) for x in sd] \n",
    "\n",
    "print(mean)\n",
    "print(sd)"
   ]
  },
  {
   "cell_type": "markdown",
   "id": "4f2edc18",
   "metadata": {},
   "source": [
    "## Table - cifar10_niid2_0.8a_0.2b_fedavg_partitions\n",
    "partitions: (100, 200, 400, 800)"
   ]
  },
  {
   "cell_type": "code",
   "execution_count": 5,
   "id": "6b51748b",
   "metadata": {},
   "outputs": [],
   "source": [
    "# $ 55.85 \\pm 1.37 $ & $ 54.83 \\pm 0.65 $ & $ 55.28 \\pm 1.02 $ 52.73 ± 0.53\n",
    "\n",
    "r1_av = [57.41, 48.24, 55.52, 52.73]\n",
    "r1_sd = [0.38, 0.66, 1.32, 0.53]\n",
    "\n",
    "r2_av = [56.77, 52.44, 55.02, 52.73]\n",
    "r2_sd = [0.77, 0.9, 0.94, 0.53]\n",
    "\n",
    "r3_av = [41.13, 28.56, 35.93, 35.84]\n",
    "r3_sd = [0.78, 1.32, 1.21, 1.13]\n",
    "\n",
    "r4_av = [35.96, 28.4, 31.8, 31.16]\n",
    "r4_sd = [1.78, 0.49, 1.13, 1.09]"
   ]
  },
  {
   "cell_type": "code",
   "execution_count": 6,
   "id": "b8fd723f",
   "metadata": {},
   "outputs": [],
   "source": [
    "table_av = [r1_av, r2_av]\n",
    "table_sd = [r1_sd, r2_sd]\n",
    "\n",
    "table_av = np.array(table_av)\n",
    "table_sd = np.array(table_sd)"
   ]
  },
  {
   "cell_type": "code",
   "execution_count": 7,
   "id": "831d0622",
   "metadata": {},
   "outputs": [
    {
     "data": {
      "text/plain": [
       "array([[57.41, 48.24, 55.52, 52.73],\n",
       "       [56.77, 52.44, 55.02, 52.73]])"
      ]
     },
     "execution_count": 7,
     "metadata": {},
     "output_type": "execute_result"
    }
   ],
   "source": [
    "table_av"
   ]
  },
  {
   "cell_type": "markdown",
   "id": "3d44d2a7",
   "metadata": {},
   "source": [
    "## Plots"
   ]
  },
  {
   "cell_type": "raw",
   "id": "3a1a346a",
   "metadata": {},
   "source": [
    "# get color\n",
    "https://matplotlib.org/stable/gallery/color/named_colors.html\n",
    "\n",
    "# place legend\n",
    "https://stackoverflow.com/questions/4700614/how-to-put-the-legend-outside-the-plot"
   ]
  },
  {
   "cell_type": "code",
   "execution_count": 8,
   "id": "0bdee1b9",
   "metadata": {},
   "outputs": [],
   "source": [
    "font = {'family': 'serif',\n",
    "        'weight': 'normal',\n",
    "        }\n",
    "fontsize_axes   = 12 # axes fontsize\n",
    "fontsize_legend = 11 # legend fontsize\n",
    "# legend_properties = {'weight':'bold'}\n",
    "\n",
    "# x_label = [\"0.516\", \"0.012\"]\n",
    "x_label = [\"low\", \"high\"]\n",
    "y_min   = 35\n",
    "y_max   = 65\n",
    "y_step  = 5\n",
    "\n",
    "color_bar1 = 'darkturquoise'\n",
    "color_bar2 = 'slateblue'\n",
    "color_bar3 = 'palegreen'\n",
    "color_bar4 = 'darkgrey'"
   ]
  },
  {
   "cell_type": "code",
   "execution_count": 9,
   "id": "160daf94",
   "metadata": {},
   "outputs": [],
   "source": [
    "def make_fig_bar(mean, sd, name):\n",
    "    \n",
    "    fig, ax = plt.subplots(figsize =(9.5, 7.5), nrows=1, sharex=True)\n",
    "    \n",
    "    N = 2\n",
    "    ind = np.arange(N) \n",
    "    width = 0.2\n",
    "\n",
    "    print()\n",
    "    \n",
    "    bar1 = ax.bar(ind, mean[:, 0], yerr=sd[:, 0], width=width, \n",
    "                  label=\"curr\", color=color_bar1, capsize=3)\n",
    "    \n",
    "    bar2 = ax.bar(ind+width, mean[:, 1], yerr=sd[:, 1], width=width, \n",
    "                  label=\"anti\", color=color_bar2, capsize=3)\n",
    "    \n",
    "    bar3 = ax.bar(ind+width*2, mean[:, 2], yerr=sd[:, 2], width=width, \n",
    "                   label=\"rand\", color=color_bar3, capsize=3)\n",
    "    \n",
    "    bar4 = ax.bar(ind+width*3, mean[:, 3], yerr=sd[:, 3], width=width, \n",
    "                   label=\"vanilla\", color=color_bar4, capsize=3)\n",
    "    \n",
    "\n",
    "    plt.xticks(ind+width*1.5, x_label)\n",
    "    ax.set_xticklabels(x_label, fontdict=font, fontsize=fontsize_axes, rotation=0)\n",
    "    plt.ylim(y_min, y_max)\n",
    "    ax.set_yticks(np.arange(y_min, y_max, y_step))\n",
    "    yticks = [str(el) for el in np.arange(y_min, y_max, y_step)]\n",
    "    ax.set_yticklabels(yticks, fontsize=fontsize_axes, fontdict=font, color='black')\n",
    "    \n",
    "    ax.set_xlabel('Consistency', fontsize=15, labelpad=2, fontdict=font)\n",
    "    ax.set_ylabel('Accuracy', fontsize=15, labelpad=4, fontdict=font)\n",
    "    \n",
    "    ax.grid(visible=True, which='major', axis='y')\n",
    "    plt.legend(bbox_to_anchor=(0, 1.02, 1, 0.2), loc=\"lower left\", \n",
    "               mode=\"expand\", borderaxespad=0, ncol=2, \n",
    "               fontsize=fontsize_legend)\n",
    "    ax.margins(x=0.1)\n",
    "    figure = plt.gcf()\n",
    "    figure.set_size_inches(4, 3)\n",
    "    plt.subplots_adjust(hspace = 0.01)\n",
    "    fig.savefig('figures/' + name + '_bar.eps', format='eps', dpi=1000, bbox_inches='tight')\n",
    "    plt.show()"
   ]
  },
  {
   "cell_type": "code",
   "execution_count": 10,
   "id": "cea88dd3",
   "metadata": {},
   "outputs": [
    {
     "name": "stderr",
     "output_type": "stream",
     "text": [
      "The PostScript backend does not support transparency; partially transparent artists will be rendered opaque.\n"
     ]
    },
    {
     "name": "stdout",
     "output_type": "stream",
     "text": [
      "\n"
     ]
    },
    {
     "data": {
      "image/png": "[encoded data removed]",
      "text/plain": [
       "<Figure size 288x216 with 1 Axes>"
      ]
     },
     "metadata": {
      "needs_background": "light"
     },
     "output_type": "display_data"
    }
   ],
   "source": [
    "make_fig_bar(table_av, table_sd, \n",
    "             'DC_noeffect_iid')"
   ]
  },
  {
   "cell_type": "code",
   "execution_count": 11,
   "id": "97e4c43c",
   "metadata": {},
   "outputs": [],
   "source": [
    "# font = {'family': 'serif',\n",
    "#         'weight': 'normal',\n",
    "#         }\n",
    "# fontsize = 10 # axes fontsize\n",
    "\n",
    "# x_label = [\"100\", \"200\", \"400\", \"800\"]\n",
    "# y_min   = 10\n",
    "# y_max   = 55\n",
    "# y_step  = 5\n",
    "\n",
    "# linewidth = 2\n",
    "\n",
    "# color_curr_mean = 'green'\n",
    "# color_curr_sd   = 'palegreen'\n",
    "\n",
    "# color_anti_mean = 'darkviolet'\n",
    "# color_anti_sd   = 'plum'\n",
    "\n",
    "# color_rand_mean = 'darkblue'\n",
    "# color_rand_sd   = 'paleturquoise'\n",
    "\n",
    "# color_vanilla_mean = 'red'\n",
    "# color_vanilla_sd   = 'pink'"
   ]
  },
  {
   "cell_type": "code",
   "execution_count": 12,
   "id": "b1170193",
   "metadata": {},
   "outputs": [],
   "source": [
    "# def make_fig_line(mean, sd, name):\n",
    "    \n",
    "#     fig, ax = plt.subplots(figsize =(9.5, 7.5), nrows=1, sharex=True)\n",
    "    \n",
    "#     x = np.array(x_label)\n",
    "\n",
    "#     order_idx = 0 # curr\n",
    "#     y = np.array(mean[:, order_idx])\n",
    "#     error = np.array(sd[:, order_idx])\n",
    "#     ax.plot(x, y, color=color_curr_mean, label=\"curr\", linewidth=linewidth)\n",
    "#     ax.fill_between(x, y-error, y+error,\n",
    "#         alpha=0.5, edgecolor=color_curr_sd, facecolor=color_curr_sd)\n",
    "\n",
    "\n",
    "#     order_idx = 1 # anti\n",
    "#     y = np.array(mean[:, order_idx])\n",
    "#     error = np.array(sd[:, order_idx])\n",
    "#     ax.plot(x, y, color=color_anti_mean, label=\"anti\", linewidth=linewidth)\n",
    "#     ax.fill_between(x, y-error, y+error,\n",
    "#         alpha=0.5, edgecolor=color_anti_sd, facecolor=color_anti_sd)\n",
    "\n",
    "\n",
    "#     order_idx = 2 # rand\n",
    "#     y = np.array(mean[:, order_idx])\n",
    "#     error = np.array(sd[:, order_idx])\n",
    "#     ax.plot(x, y, color=color_rand_mean, label=\"rand\", linewidth=linewidth)\n",
    "#     ax.fill_between(x, y-error, y+error,\n",
    "#         alpha=0.5, edgecolor=color_rand_sd, facecolor=color_rand_sd)\n",
    "\n",
    "\n",
    "#     order_idx = 3 # vanilla\n",
    "#     y = np.array(mean[:, order_idx])\n",
    "#     error = np.array(sd[:, order_idx])\n",
    "#     ax.plot(x, y, color=color_vanilla_mean, label=\"vanilla\", linewidth=linewidth)\n",
    "#     ax.fill_between(x, y-error, y+error,\n",
    "#         alpha=0.5, edgecolor=color_vanilla_sd, facecolor=color_vanilla_sd)\n",
    "\n",
    "\n",
    "#     ax.set_xticklabels(x_label, fontdict=font, fontsize=fontsize, rotation=0)\n",
    "#     ax.set_yticks(np.arange(y_min, y_max, y_step))\n",
    "#     yticks = [str(el) for el in np.arange(y_min, y_max, y_step)]\n",
    "#     ax.set_yticklabels(yticks, fontsize=fontsize, fontdict=font, color='black')\n",
    "\n",
    "#     ax.grid(b=True, which='major', axis='both')\n",
    "#     ax.legend(loc=\"lower left\")\n",
    "#     ax.margins(x=0)\n",
    "#     figure = plt.gcf()\n",
    "#     figure.set_size_inches(3.5, 2.5)\n",
    "#     plt.subplots_adjust(hspace = 0.01)\n",
    "#     fig.savefig('../figures/' + name + '_line.eps', format='eps', dpi=1000, bbox_inches='tight')\n",
    "#     plt.show()"
   ]
  },
  {
   "cell_type": "code",
   "execution_count": 13,
   "id": "2559f8f4",
   "metadata": {},
   "outputs": [],
   "source": [
    "# make_fig_line(table_av, table_sd, \n",
    "#               'cifar10_niid2_0.8a_0.2b_fedavg_partitions')"
   ]
  }
 ],
 "metadata": {
  "kernelspec": {
   "display_name": "Python 3.8.13 ('base')",
   "language": "python",
   "name": "python3"
  },
  "language_info": {
   "codemirror_mode": {
    "name": "ipython",
    "version": 3
   },
   "file_extension": ".py",
   "mimetype": "text/x-python",
   "name": "python",
   "nbconvert_exporter": "python",
   "pygments_lexer": "ipython3",
   "version": "3.8.13"
  },
  "vscode": {
   "interpreter": {
    "hash": "d4d1e4263499bec80672ea0156c357c1ee493ec2b1c70f0acce89fc37c4a6abe"
   }
  }
 },
 "nbformat": 4,
 "nbformat_minor": 5
}
